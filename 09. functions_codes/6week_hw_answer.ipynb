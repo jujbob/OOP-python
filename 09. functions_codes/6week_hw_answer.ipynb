{
 "cells": [
  {
   "cell_type": "markdown",
   "metadata": {},
   "source": [
    "##### 1번 문제\n",
    "##### A 와 같은 행렬을 list comprehension을 통해 선언하세요."
   ]
  },
  {
   "cell_type": "code",
   "execution_count": null,
   "metadata": {},
   "outputs": [],
   "source": [
    "\"\"\"\n",
    "A = [\n",
    "        [1, 2, 3, 4, 5, ..., 100,],\n",
    "        [101, 102, 103, ..., 200,],\n",
    "        .\n",
    "        .\n",
    "        [1901, 1902, 1903, ..., 2000,],\n",
    "    ]\n",
    "\"\"\"\n",
    "\n",
    "### 정답\n",
    "print([[j*100 + i for i in range(1, 101)] for j in range(0, 20)])"
   ]
  },
  {
   "cell_type": "markdown",
   "metadata": {},
   "source": [
    "##### 2번 문제\n",
    "##### score 딕셔너리를 점수 순으로 정렬하는 코드를 작성하세요."
   ]
  },
  {
   "cell_type": "code",
   "execution_count": null,
   "metadata": {},
   "outputs": [],
   "source": [
    "scores = {\n",
    "    \"Asiana\": 90,\n",
    "    \"Babo\": 45,\n",
    "    \"Chris Evans\": 38,\n",
    "    \"Derac\": 99,\n",
    "    \"Euclid\": 95\n",
    "}\n",
    "\n",
    "\n",
    "# 예시 출력 \n",
    "\"\"\"\n",
    "{'Chris Evans': 38, 'Bob': 45, 'Alice': 90, 'Euclid': 95, 'Derac': 99}\n",
    "\"\"\"\n",
    "\n",
    "### 정답 \n",
    "print({k: v for k, v in sorted(scores.items(), key=lambda x: x[-1])})"
   ]
  },
  {
   "cell_type": "markdown",
   "metadata": {},
   "source": [
    "##### 3번문제\n",
    "##### 함수의 인자 값으로 \"직각삼각형\", \"크리스마스 트리\" 중 1개를 받고 생성할 직각삼각형, 크리스마스 트리의 크기를 인자 값으로 받으시오.\n",
    "##### 각 얻은 인자 값을 토대로 \"직각삼각형\" 혹은 \"크리스마스 트리\"를 입력받은 인자 크기만큼 생성하는 코드를 작성하시오.\n",
    "##### 입력받은 정수가 양수가 아니면 \"입력받은 크기가 양수가 아닙니다.\"를 출력하도록 하세요."
   ]
  },
  {
   "cell_type": "code",
   "execution_count": null,
   "metadata": {},
   "outputs": [],
   "source": [
    "### 정답\n",
    "def draw(shape, n):\n",
    "    if shape == '직각삼각형':\n",
    "        if n > 0:\n",
    "            for i in range(n):\n",
    "                print('*' * (i+1))\n",
    "        else:\n",
    "            print(\"입력받은 크기가 양수가 아닙니다.\")\n",
    "    elif shape == '크리스마스 트리':\n",
    "        if n > 0:\n",
    "            for i in range(n):\n",
    "                for j in range(n-1-i):\n",
    "                    print(\" \", end=\"\") \n",
    "                for k in range(i*2+1):\n",
    "                    print(\"*\", end=\"\")\n",
    "                print()\n",
    "        else:\n",
    "            print(\"입력받은 크기가 양수가 아닙니다.\")\n",
    "\n",
    "draw('크리스마스 트리', 4)\n",
    "draw('직각삼각형', 6)\n",
    "draw('직각삼각형', -4)\n"
   ]
  },
  {
   "cell_type": "markdown",
   "metadata": {},
   "source": [
    "#### 4번문제\n",
    "$ L_1 $ distance (manhattan distance)는 다음과 같이 정의된다. \n",
    "\n",
    "$$ \n",
    "d_1 (p, q) = ||p - q||_1 = \\sum_{i=1}^n |p_i - q_i |\n",
    "$$\n",
    "\n",
    "Vector $\\mathbf{p}$ 와 $\\mathbf{q}$가 주어질 때, $d_1(\\mathbf{p}, \\mathbf{q})$ 를 구하는 함수를 작성하세요."
   ]
  },
  {
   "cell_type": "code",
   "execution_count": null,
   "metadata": {},
   "outputs": [],
   "source": [
    "def l1_distance(p, q):\n",
    "    # 코드 작성 부분\n",
    "    ## 정답 \n",
    "    return sum([abs(x - y) for x, y in zip(p, q)])\n",
    "\n",
    "p = [_ for _ in range(10)]\n",
    "q = [_ for _ in range(10, 20)]\n",
    "print(l1_distance(p, q))\n",
    "## >> 100\n",
    "\n",
    "p = [_ for _ in range(10, 20)]\n",
    "q = [_ for _ in range(10)]\n",
    "print(l1_distance(p, q))\n",
    "## >> 100\n",
    "\n",
    "p = [_ for _ in range(10)]\n",
    "q = [_ for _ in range(20, 30)]\n",
    "print(l1_distance(p, q))\n",
    "## >> 200\n",
    "\n",
    "p = [_ for _ in range(10)]\n",
    "q = [_ for _ in range(10, 30, 2)]\n",
    "print(l1_distance(p, q))\n",
    "## >> 145"
   ]
  },
  {
   "cell_type": "markdown",
   "metadata": {},
   "source": [
    "##### 5번문제\n",
    "##### function을 활용하여 Factorial 계산을 구현하시오."
   ]
  },
  {
   "cell_type": "code",
   "execution_count": null,
   "metadata": {},
   "outputs": [],
   "source": [
    "def factorial(n):\n",
    "    if n < 0:\n",
    "        raise ValueError(\"n은 0 이상의 정수여야 합니다.\")\n",
    "    result = 1\n",
    "    for i in range(2, n + 1):\n",
    "        result *= i\n",
    "    return result\n",
    "\n",
    "# 예시 출력\n",
    "print(factorial(0))\n",
    "\"\"\"\n",
    "1\n",
    "\"\"\"\n",
    "\n",
    "print(factorial(5))\n",
    "\"\"\"\n",
    "120\n",
    "\"\"\"\n",
    "\n",
    "print(factorial(-2))\n",
    "\"\"\"\n",
    "n은 0 이상의 정수여야 합니다.\n",
    "\"\"\""
   ]
  },
  {
   "cell_type": "markdown",
   "metadata": {},
   "source": [
    "##### 6번 문제\n",
    "##### 수치 미분 - 중앙차분법\n",
    "\n",
    "컴퓨터를 통해 미분을 계산할 때, 다음과 같은 방법을 사용함. \n",
    "\n",
    "(충분히 작은 $\\epsilon$에 대하여, )\n",
    "\n",
    "$$\n",
    "f^\\prime (x) = \\frac{f(x + \\epsilon) - f(x - \\epsilon)}{2\\epsilon}\n",
    "$$\n",
    "\n",
    "$f(x)$가 주어질 때, $x = a$에서의 수치 미분 값을 구하는 함수를 작성하세요.\n"
   ]
  },
  {
   "cell_type": "code",
   "execution_count": null,
   "metadata": {},
   "outputs": [],
   "source": [
    "def central_derivitive(f, a):\n",
    "    eps = 1e-10\n",
    "    # 정답\n",
    "    return (f(a+eps) - f(a-eps)) / (2*eps)\n",
    "\n",
    "\n",
    "## Case: f(x) = x^2\n",
    "def f(x):\n",
    "    # 정답\n",
    "    return x**2\n",
    "\n",
    "print(central_derivitive(f, 1))\n",
    "print(central_derivitive(f, -1))\n",
    "print(central_derivitive(f, 3))\n",
    "\n",
    "## Case: f(x) = x^3\n",
    "def f(x):\n",
    "    # 정답\n",
    "    return x**3\n",
    "\n",
    "print(central_derivitive(f, 1))\n",
    "print(central_derivitive(f, -1))\n",
    "print(central_derivitive(f, 3))"
   ]
  },
  {
   "cell_type": "markdown",
   "metadata": {},
   "source": [
    "##### 7번 문제\n",
    "##### 다음과 같이 scores 딕셔너리가 있을 때, \n",
    "##### 점수가 50점이 넘는 학생의 이름의 리스트를 list comprehension을 통해 선언하세요."
   ]
  },
  {
   "cell_type": "code",
   "execution_count": null,
   "metadata": {},
   "outputs": [],
   "source": [
    "scores = {\n",
    "    \"Asiana\": 90,\n",
    "    \"Babo\": 45,\n",
    "    \"Chris Evans\": 38,\n",
    "    \"Derac\": 99,\n",
    "    \"Euclid\": 95\n",
    "}\n",
    "\n",
    "# 코드 작성 부분\n",
    "\n",
    "# 정답\n",
    "arr = [k for k, v in scores.items() if v > 50]\n",
    "\n",
    "print(arr)\n",
    "## >> ['Asiana', 'Derac', 'Euclid']"
   ]
  },
  {
   "cell_type": "code",
   "execution_count": null,
   "metadata": {},
   "outputs": [],
   "source": []
  }
 ],
 "metadata": {
  "kernelspec": {
   "display_name": "Python 3",
   "language": "python",
   "name": "python3"
  },
  "language_info": {
   "codemirror_mode": {
    "name": "ipython",
    "version": 3
   },
   "file_extension": ".py",
   "mimetype": "text/x-python",
   "name": "python",
   "nbconvert_exporter": "python",
   "pygments_lexer": "ipython3",
   "version": "3.11.2"
  }
 },
 "nbformat": 4,
 "nbformat_minor": 2
}
