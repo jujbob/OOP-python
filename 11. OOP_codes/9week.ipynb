{
 "cells": [
  {
   "cell_type": "markdown",
   "metadata": {},
   "source": [
    "### 1번"
   ]
  },
  {
   "cell_type": "code",
   "execution_count": null,
   "metadata": {},
   "outputs": [],
   "source": [
    "class Student:\n",
    "    def __init__(self, name, student_id, major, gpa):\n",
    "        # 코드 작성 구간\n",
    "\n",
    "    def update_gpa(self, new_gpa):\n",
    "        # 코드 작성 구간\n",
    "\n",
    "    def display_info(self):\n",
    "        # 코드 작성 구간\n",
    "\n",
    "# 학생 객체 생성\n",
    "student1 = Student(\"임현석\", \"24510309\", \"음주학과\", 1.9)\n",
    "student2 = Student(\"김민준\", \"24510304\", \"수학과\", 4.1)\n",
    "\n",
    "# 초기 정보 출력\n",
    "print(\"초기 학생 정보:\")\n",
    "student1.display_info()\n",
    "student2.display_info()\n",
    "\n",
    "# 학점 업데이트\n",
    "student1.update_gpa(3.8)\n",
    "student2.update_gpa(3.9)\n",
    "\n",
    "# 업데이트된 정보 출력\n",
    "print(\"\\n업데이트된 학생 정보:\")\n",
    "student1.display_info()\n",
    "student2.display_info()"
   ]
  },
  {
   "cell_type": "code",
   "execution_count": null,
   "metadata": {},
   "outputs": [],
   "source": [
    "# 출력 예시\n",
    "'''\n",
    "초기 학생 정보:\n",
    "이름: 임현석\n",
    "학번: 24510309\n",
    "전공: 음주학과\n",
    "학점: 1.9\n",
    "\n",
    "이름: 김민준\n",
    "학번: 24510304\n",
    "전공: 수학과\n",
    "학점: 4.1\n",
    "\n",
    "임현석의 학점이 3.8로 업데이트되었습니다.\n",
    "김민준의 학점이 3.9로 업데이트되었습니다.\n",
    "\n",
    "업데이트된 학생 정보:\n",
    "이름: 임현석\n",
    "학번: 24510309\n",
    "전공: 음주학과\n",
    "학점: 3.8\n",
    "\n",
    "이름: 김민준\n",
    "학번: 24510304\n",
    "전공: 수학과\n",
    "학점: 3.9\n",
    "'''"
   ]
  },
  {
   "cell_type": "markdown",
   "metadata": {},
   "source": [
    "### 2번\n",
    "#### 동물원에서 동물을 관리하기 위한 간단한 시스템을 객체지향적으로 구현해 보세요. 이 시스템은 동물(Animal), 우리(Enclosure), 동물원(Zoo)을 관리하는 세 개의 클래스를 사용합니다."
   ]
  },
  {
   "cell_type": "code",
   "execution_count": null,
   "metadata": {},
   "outputs": [],
   "source": [
    "class Animal:\n",
    "    def __init__(self, name, species, age):\n",
    "        self.name = name\n",
    "        self.species = species\n",
    "        self.age = age\n",
    "\n",
    "    def display_info(self):\n",
    "        # 코드 작성 부분\n",
    "\n",
    "\n",
    "class Enclosure:\n",
    "    def __init__(self, enclosure_id, capacity):\n",
    "        self.enclosure_id = enclosure_id\n",
    "        self.capacity = capacity\n",
    "        self.animals = []\n",
    "\n",
    "    def add_animal(self, animal):\n",
    "        # 코드 작성 부분\n",
    "\n",
    "    def remove_animal(self, animal_name):\n",
    "        # 코드 작성 부분\n",
    "\n",
    "    def display_animals(self):\n",
    "        if not self.animals:\n",
    "            print(f\"우리 {self.enclosure_id}에 동물이 없습니다.\\n\")\n",
    "            return\n",
    "\n",
    "        print(f\"우리 ID: {self.enclosure_id}\")\n",
    "        print(f\"수용 가능 인원: {self.capacity}\")\n",
    "        print(\"우리 안의 동물:\")\n",
    "        # 코드 작성 부분\n",
    "\n",
    "\n",
    "class Zoo:\n",
    "    def __init__(self, name):\n",
    "        self.name = name\n",
    "        self.enclosures = []\n",
    "\n",
    "    def add_enclosure(self, enclosure):\n",
    "        # 코드 작성 부분\n",
    "\n",
    "\n",
    "    def find_enclosure(self, enclosure_id):\n",
    "        # 코드 작성 부분\n",
    "\n",
    "\n",
    "    def display_zoo_info(self):\n",
    "        # 코드 작성 부분\n",
    "\n",
    "\n",
    "# 동물 객체 생성\n",
    "animal1 = Animal(\"원숭이\", \"공릉 원숭이\", 10)\n",
    "animal2 = Animal(\"사자\", \"노원 사자\", 5)\n",
    "animal3 = Animal(\"기린\", \"숏다리 기린\", 7)\n",
    "animal4 = Animal(\"펭귄\", \"아프리카 펭귄\", 3)\n",
    "\n",
    "# 우리 객체 생성\n",
    "enclosure1 = Enclosure(\"현석우리\", 2)\n",
    "enclosure2 = Enclosure(\"민준우리\", 3)\n",
    "\n",
    "# 동물들을 우리에 추가\n",
    "enclosure1.add_animal(animal1)\n",
    "enclosure1.add_animal(animal2)\n",
    "# 추가 시도 (수용 인원 초과)\n",
    "enclosure1.add_animal(animal3)\n",
    "\n",
    "enclosure2.add_animal(animal3)\n",
    "\n",
    "# 동물원 객체 생성 및 우리 추가\n",
    "zoo = Zoo(\"경태네 동물원\")\n",
    "zoo.add_enclosure(enclosure1)\n",
    "zoo.add_enclosure(enclosure2)\n",
    "\n",
    "# 동물원 정보 출력\n",
    "zoo.display_zoo_info()\n",
    "\n",
    "# 우리에 동물 추가\n",
    "zoo.find_enclosure(\"민준우리\").add_animal(animal4)\n",
    "\n",
    "# 우리 민준우리의 동물 목록 출력\n",
    "print(\"\\n우리 민준우리의 동물 목록:\")\n",
    "zoo.find_enclosure(\"민준우리\").display_animals()\n",
    "\n",
    "# 우리 현석우리에서 동물 제거\n",
    "zoo.find_enclosure(\"현석우리\").remove_animal(\"사자\")\n",
    "\n",
    "# 우리 현석우리의 동물 목록 출력\n",
    "print(\"\\n우리 현석우리의 동물 목록:\")\n",
    "zoo.find_enclosure(\"현석우리\").display_animals()\n"
   ]
  },
  {
   "cell_type": "code",
   "execution_count": null,
   "metadata": {},
   "outputs": [],
   "source": [
    "# 출력 예시\n",
    "'''\n",
    "동물 '원숭이'을 우리 현석우리에 추가하였습니다.\n",
    "동물 '사자'을 우리 현석우리에 추가하였습니다.\n",
    "우리 현석우리의 수용 인원이 가득 차서 '기린'을 추가할 수 없습니다.\n",
    "동물 '기린'을 우리 민준우리에 추가하였습니다.\n",
    "우리 현석우리이(가) 동물원 '경태네 동물원'에 추가되었습니다.\n",
    "우리 민준우리이(가) 동물원 '경태네 동물원'에 추가되었습니다.\n",
    "\n",
    "동물원 이름: 경태네 동물원\n",
    "\n",
    "우리 ID: 현석우리\n",
    "수용 가능 인원: 2\n",
    "우리 안의 동물:\n",
    "1. 이름: 원숭이\n",
    "종: 공릉 원숭이\n",
    "나이: 10\n",
    "\n",
    "2. 이름: 사자\n",
    "종: 노원 사자\n",
    "나이: 5\n",
    "\n",
    "우리 ID: 민준우리\n",
    "수용 가능 인원: 3\n",
    "우리 안의 동물:\n",
    "1. 이름: 기린\n",
    "종: 숏다리 기린\n",
    "나이: 7\n",
    "\n",
    "동물 '펭귄'을 우리 민준우리에 추가하였습니다.\n",
    "\n",
    "우리 민준우리의 동물 목록:\n",
    "우리 ID: 민준우리\n",
    "수용 가능 인원: 3\n",
    "우리 안의 동물:\n",
    "1. 이름: 기린\n",
    "종: 숏다리 기린\n",
    "나이: 7\n",
    "\n",
    "2. 이름: 펭귄\n",
    "종: 아프리카 펭귄\n",
    "나이: 3\n",
    "\n",
    "동물 '사자'를 우리 현석우리에서 제거하였습니다.\n",
    "\n",
    "우리 현석우리의 동물 목록:\n",
    "우리 ID: 현석우리\n",
    "수용 가능 인원: 2\n",
    "우리 안의 동물:\n",
    "1. 이름: 원숭이\n",
    "종: 공릉 원숭이\n",
    "나이: 10\n",
    "'''"
   ]
  },
  {
   "cell_type": "markdown",
   "metadata": {},
   "source": [
    "### 3번"
   ]
  },
  {
   "cell_type": "code",
   "execution_count": null,
   "metadata": {},
   "outputs": [],
   "source": [
    "#1\n",
    "class Rectangle:\n",
    "    def __init__(self, width, height):\n",
    "        self.width = width\n",
    "        self.height = height\n",
    "        print(f\"{self.width}x{self.height} 크기의 사각형이 생성되었습니다.\")\n",
    "\n",
    "    #2\n",
    "    def __del__(self):\n",
    "        # 코드 작성\n",
    "\n",
    "    #3\n",
    "    def area(self):\n",
    "        # 코드 작성\n",
    "\n",
    "    #4\n",
    "    def perimeter(self):\n",
    "        # 코드 작성\n",
    "        \n",
    "    #5\n",
    "    def __eq__(self, other):\n",
    "        # 코드 작성\n",
    "\n",
    "    #6\n",
    "    def __lt__(self, other):\n",
    "        # 코드 작성\n",
    "\n",
    "#7\n",
    "## 메인 코드 부분\n",
    "rect1 = Rectangle(4, 5)\n",
    "rect2 = Rectangle(3, 6)\n",
    "\n",
    "#8\n",
    "print(\"두 사각형의 합면적:\", rect1.area() + rect2.area())\n",
    "\n",
    "#9\n",
    "print(\"rect1의 둘레:\", rect1.perimeter())  # rect1의 둘레 출력\n",
    "print(\"rect2의 둘레:\", rect2.perimeter())  # rect2의 둘레 출력\n",
    "\n",
    "#10\n",
    "if rect1 < rect2:\n",
    "    print(\"rect2의 면적이 더 큽니다.\")\n",
    "    del(rect1)\n",
    "elif rect1 == rect2:\n",
    "    print(\"두 사각형의 면적이 같습니다.\")\n",
    "else:\n",
    "    print(\"rect1의 면적이 더 큽니다.\")\n",
    "    del(rect2)\n"
   ]
  },
  {
   "cell_type": "code",
   "execution_count": null,
   "metadata": {},
   "outputs": [],
   "source": [
    "# 출력 예시\n",
    "'''\n",
    "4x5 크기의 사각형이 생성되었습니다.\n",
    "4x5 크기의 사각형이 제거되었습니다.\n",
    "3x6 크기의 사각형이 생성되었습니다.\n",
    "두 사각형의 합면적: 38\n",
    "rect1의 둘레: 18\n",
    "rect2의 둘레: 18\n",
    "rect1의 면적이 더 큽니다.\n",
    "3x6 크기의 사각형이 제거되었습니다.\n",
    "'''"
   ]
  },
  {
   "cell_type": "markdown",
   "metadata": {},
   "source": [
    "# (참고자료) 클래스 분석\n",
    "\n",
    "### 1. dir() 메소드: 인스턴스 변수와 메소드를 확인 가능."
   ]
  },
  {
   "cell_type": "code",
   "execution_count": null,
   "metadata": {},
   "outputs": [],
   "source": [
    "\"\"\"\n",
    "python의 클래스는 기본적으로 object 클래스를 상속받음.\n",
    "\"\"\"\n",
    "obj_class = object()"
   ]
  },
  {
   "cell_type": "code",
   "execution_count": null,
   "metadata": {},
   "outputs": [],
   "source": [
    "dir(obj_class)"
   ]
  },
  {
   "cell_type": "code",
   "execution_count": null,
   "metadata": {},
   "outputs": [],
   "source": [
    "print(obj_class.__doc__)"
   ]
  },
  {
   "cell_type": "markdown",
   "metadata": {},
   "source": [
    "(python 3 이상) 모든 클래스는 기본적으로 object 클래스를 상속받기 때문에, 아래의 TestClassA와 TestClassB는 동일한 기능의 클래스임."
   ]
  },
  {
   "cell_type": "code",
   "execution_count": null,
   "metadata": {},
   "outputs": [],
   "source": [
    "class TestClassA:\n",
    "    def __init__(self):\n",
    "        pass\n",
    "\n",
    "test_class_a = TestClassA()\n",
    "dir(test_class_a)"
   ]
  },
  {
   "cell_type": "code",
   "execution_count": null,
   "metadata": {},
   "outputs": [],
   "source": [
    "class TestClassB(object):\n",
    "    def __init__(self):\n",
    "        pass\n",
    "\n",
    "test_class_b = TestClassB()\n",
    "dir(test_class_b)"
   ]
  },
  {
   "cell_type": "markdown",
   "metadata": {},
   "source": [
    "### 2. vars() 메소드: 인스턴스 변수를 dictionary 형태로 출력"
   ]
  },
  {
   "cell_type": "code",
   "execution_count": null,
   "metadata": {},
   "outputs": [],
   "source": [
    "class TestClass:\n",
    "    def __init__(self):\n",
    "        self.x = 1\n",
    "        self.y = 2"
   ]
  },
  {
   "cell_type": "code",
   "execution_count": null,
   "metadata": {},
   "outputs": [],
   "source": [
    "test_class = TestClass()\n",
    "print(\"vars(): \\n\", vars(test_class))\n",
    "\n",
    "# vars 메소드는 __dict__ 와 동일한 효과\n",
    "print(\"\\n__dict__: \\n\", test_class.__dict__)"
   ]
  },
  {
   "cell_type": "markdown",
   "metadata": {},
   "source": [
    "# Transformers의 TrainingArguments 활용\n",
    "\n",
    "### 1. 대규모 언어모델(LLM)등의 모델 학습을 위한 패키지인 transformers 설치"
   ]
  },
  {
   "cell_type": "code",
   "execution_count": null,
   "metadata": {},
   "outputs": [],
   "source": [
    "!pip install transformers"
   ]
  },
  {
   "cell_type": "markdown",
   "metadata": {},
   "source": [
    "### 2. TrainingArguments 클래스 분석"
   ]
  },
  {
   "cell_type": "code",
   "execution_count": null,
   "metadata": {},
   "outputs": [],
   "source": [
    "import transformers\n",
    "\n",
    "args = transformers.TrainingArguments(output_dir=\"\")"
   ]
  },
  {
   "cell_type": "code",
   "execution_count": null,
   "metadata": {},
   "outputs": [],
   "source": [
    "# 인스턴스 변수 출력\n",
    "vars(args)"
   ]
  },
  {
   "cell_type": "code",
   "execution_count": null,
   "metadata": {},
   "outputs": [],
   "source": [
    "# 인스턴스 변수 및 메서드 출력\n",
    "dir(args)\n"
   ]
  },
  {
   "cell_type": "markdown",
   "metadata": {},
   "source": [
    "## transformers의 'TrainingArguments' 클래스를 상속받아 'MyTrainingArguments' 클래스를 만들고, 다음의 작업을 진행.\n",
    "\n",
    "### 문제 1.\n",
    "- \"optim\" 으로 시작하는 모든 인스턴스 변수를 출력하는 `print_optim_args()` 함수를 작성.\n",
    "- \"log\"로 시작하는 모든 인스턴스 변수를 출력하는 `print_logging_args()` 함수 작성.\n",
    "- 인스턴스 변수의 값이 int, float형인 변수만 출력하는 `print_numerical_args()` 함수 작성\n",
    "\n",
    "TrainingArgs: https://github.com/huggingface/transformers/blob/main/src/transformers/training_args.py 파일의 223번째 줄에 TrainingArguments 클래스 확인"
   ]
  },
  {
   "cell_type": "code",
   "execution_count": null,
   "metadata": {},
   "outputs": [],
   "source": [
    "class MyTrainingArguments(transformers.TrainingArguments):\n",
    "    def __init__(self, output_dir):\n",
    "        super().__init__(output_dir)\n",
    "\n",
    "    def print_optim_args(self):\n",
    "        ## 코드 작성 부분, `pass`는 삭제\n",
    "        pass\n",
    "\n",
    "    def print_logging_args(self):\n",
    "        ## 코드 작성 부분 `pass`는 삭제\n",
    "        pass\n",
    "\n",
    "    def print_numerical_args(self):\n",
    "        ## 코드 작성 부분 `pass`는 삭제\n",
    "        pass\n",
    "    \n",
    "my_args = MyTrainingArguments(output_dir=\"\")\n",
    "my_args.print_optim_args()\n",
    "my_args.print_logging_args()\n",
    "my_args.print_numerical_args()"
   ]
  },
  {
   "cell_type": "code",
   "execution_count": null,
   "metadata": {},
   "outputs": [],
   "source": [
    "# 출력 예시\n",
    "'''\n",
    "Optim args::\n",
    " {'optim': <OptimizerNames.ADAMW_TORCH: 'adamw_torch'>, 'optim_args': None, 'optim_target_modules': None}\n",
    "Logging args::\n",
    " {'log_level': 'passive', 'log_level_replica': 'warning', 'log_on_each_node': True, 'logging_dir': 'runs/Oct30_18-30-24_833ee0ee7403', 'logging_strategy': <IntervalStrategy.STEPS: 'steps'>, 'logging_first_step': False, 'logging_steps': 500, 'logging_nan_inf_filter': True}\n",
    "Numerical args::\n",
    " {'overwrite_output_dir': False, 'do_train': False, 'do_eval': False, 'do_predict': False, 'prediction_loss_only': False, 'per_device_train_batch_size': 8, 'per_device_eval_batch_size': 8, 'gradient_accumulation_steps': 1, 'eval_delay': 0, 'learning_rate': 5e-05, 'weight_decay': 0.0, 'adam_beta1': 0.9, ...\n",
    "'''"
   ]
  },
  {
   "cell_type": "markdown",
   "metadata": {},
   "source": [
    "### 문제 2.\n",
    "\n",
    "인스턴스 변수는 다음과 같이 접근해서 값을 변경할 수 있다.\n",
    "\n",
    "```python\n",
    "my_args = MyTrainingArguments(output_dir=\"\")\n",
    "\n",
    "print(my_args.logging_steps) ## 500\n",
    "\n",
    "my_args.logging_steps = 10\n",
    "print(my_args.logging_steps) ## 10\n",
    "```\n",
    "\n",
    "`__init__` 메서드로 인스턴스 생성시 초기화된 값과 비교하여, 외부에서 수정된 변수들을 출력하는 `print_changed_args()` 함수를 작성하세요."
   ]
  },
  {
   "cell_type": "code",
   "execution_count": null,
   "metadata": {},
   "outputs": [],
   "source": [
    "class MyTrainingArguments(transformers.TrainingArguments):\n",
    "    def __init__(self, output_dir):\n",
    "        super().__init__(output_dir)\n",
    "        self.original_args = {k: v for k, v in vars(self).items()}\n",
    "\n",
    "    def print_changed_args(self):\n",
    "        ## 코드 작성 부분 `pass`는 삭제\n",
    "        pass\n",
    "\n",
    "my_args = MyTrainingArguments(output_dir=\"\")\n",
    "\n",
    "my_args.logging_steps = 10\n",
    "my_args.learning_rate = 0.1\n",
    "my_args.num_train_epochs = 5\n",
    "\n",
    "my_args.print_changed_args()"
   ]
  },
  {
   "cell_type": "code",
   "execution_count": null,
   "metadata": {},
   "outputs": [],
   "source": [
    "# 출력 예시\n",
    "'''\n",
    "Argument learning_rate is changed:: 5e-05 -> 0.1\n",
    "Argument num_train_epochs is changed:: 3.0 -> 5\n",
    "Argument logging_steps is changed:: 500 -> 10\n",
    "'''"
   ]
  },
  {
   "cell_type": "markdown",
   "metadata": {},
   "source": [
    "### 문제 3.\n",
    "\n",
    "TrainingArguments 클래스를 확인해보면, `to_dict()`라는 메서드가 구현되어 있다(2518번째 줄).\n",
    "\n",
    "`to_dict` 메서드가 호출될 때, TrainingArguments 클래스의 `to_dict()`메서드와 동일한 기능을 하며 \"to dict!\" 라고 출력되도록 코드를 작성하세요."
   ]
  },
  {
   "cell_type": "code",
   "execution_count": null,
   "metadata": {},
   "outputs": [],
   "source": [
    "class MyTrainingArguments(transformers.TrainingArguments):\n",
    "    def __init__(self, output_dir):\n",
    "        super().__init__(output_dir)\n",
    "\n",
    "    def to_dict(self):\n",
    "         ## 코드 작성 부분 `pass`는 삭제\n",
    "         pass"
   ]
  },
  {
   "cell_type": "code",
   "execution_count": null,
   "metadata": {},
   "outputs": [],
   "source": [
    "my_args = MyTrainingArguments(output_dir=\"\")\n",
    "\n",
    "arg_dict = my_args.to_dict()"
   ]
  },
  {
   "cell_type": "markdown",
   "metadata": {},
   "source": [
    "### 문제 4.\n",
    "\n",
    "`__init__` 함수에서 `super().__init__()`을 실행하는 이유를 조사해서 간단히 작성하세요."
   ]
  }
 ],
 "metadata": {
  "kernelspec": {
   "display_name": "Python 3",
   "language": "python",
   "name": "python3"
  },
  "language_info": {
   "codemirror_mode": {
    "name": "ipython",
    "version": 3
   },
   "file_extension": ".py",
   "mimetype": "text/x-python",
   "name": "python",
   "nbconvert_exporter": "python",
   "pygments_lexer": "ipython3",
   "version": "3.12.0"
  }
 },
 "nbformat": 4,
 "nbformat_minor": 2
}
